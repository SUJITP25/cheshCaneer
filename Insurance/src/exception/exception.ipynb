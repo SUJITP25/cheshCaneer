{
 "cells": [
  {
   "cell_type": "code",
   "execution_count": 5,
   "id": "4cff3ec6",
   "metadata": {},
   "outputs": [
    {
     "ename": "ZeroDivisionError",
     "evalue": "division by zero",
     "output_type": "error",
     "traceback": [
      "\u001b[31m---------------------------------------------------------------------------\u001b[39m",
      "\u001b[31mZeroDivisionError\u001b[39m                         Traceback (most recent call last)",
      "\u001b[36mCell\u001b[39m\u001b[36m \u001b[39m\u001b[32mIn[5]\u001b[39m\u001b[32m, line 3\u001b[39m\n\u001b[32m      1\u001b[39m num1 = \u001b[32m10\u001b[39m \n\u001b[32m      2\u001b[39m num2 = \u001b[32m0\u001b[39m \n\u001b[32m----> \u001b[39m\u001b[32m3\u001b[39m \u001b[38;5;28mprint\u001b[39m(\u001b[43mnum1\u001b[49m\u001b[43m/\u001b[49m\u001b[43mnum2\u001b[49m)\n\u001b[32m      4\u001b[39m \u001b[38;5;28mprint\u001b[39m(\u001b[33m\"\u001b[39m\u001b[33mrest of code\u001b[39m\u001b[33m\"\u001b[39m)\n",
      "\u001b[31mZeroDivisionError\u001b[39m: division by zero"
     ]
    }
   ],
   "source": [
    "num1 = 10 \n",
    "num2 = 0 \n",
    "print(num1/num2)\n",
    "print(\"rest of code\")"
   ]
  },
  {
   "cell_type": "code",
   "execution_count": 6,
   "id": "4d2ae506",
   "metadata": {},
   "outputs": [
    {
     "ename": "TypeError",
     "evalue": "can only concatenate str (not \"int\") to str",
     "output_type": "error",
     "traceback": [
      "\u001b[31m---------------------------------------------------------------------------\u001b[39m",
      "\u001b[31mTypeError\u001b[39m                                 Traceback (most recent call last)",
      "\u001b[36mCell\u001b[39m\u001b[36m \u001b[39m\u001b[32mIn[6]\u001b[39m\u001b[32m, line 3\u001b[39m\n\u001b[32m      1\u001b[39m num1=\u001b[33m\"\u001b[39m\u001b[33m10\u001b[39m\u001b[33m\"\u001b[39m\n\u001b[32m      2\u001b[39m num2=\u001b[32m100\u001b[39m \n\u001b[32m----> \u001b[39m\u001b[32m3\u001b[39m result = \u001b[43mnum1\u001b[49m\u001b[43m \u001b[49m\u001b[43m+\u001b[49m\u001b[43m \u001b[49m\u001b[43mnum2\u001b[49m \n\u001b[32m      4\u001b[39m \u001b[38;5;28mprint\u001b[39m(result)\n\u001b[32m      5\u001b[39m \u001b[38;5;66;03m#TypeError\u001b[39;00m\n",
      "\u001b[31mTypeError\u001b[39m: can only concatenate str (not \"int\") to str"
     ]
    }
   ],
   "source": [
    "num1=\"10\"\n",
    "num2=100 \n",
    "result = num1 + num2 \n",
    "print(result)\n",
    "#TypeError\n",
    "print(\"rest of code\")"
   ]
  },
  {
   "cell_type": "code",
   "execution_count": 9,
   "id": "88ddf710",
   "metadata": {},
   "outputs": [],
   "source": [
    "# Exceptions disrupts the normal flow of the program\n",
    "# Stop Programn \n",
    "# Can Disrupt the Normal flow of the Program \n",
    "# Corrupt Data Files \n",
    "\n",
    "\n",
    "# Error Cannot be handled \n",
    "# Exceptions can be handled by the Programmer \n"
   ]
  },
  {
   "cell_type": "code",
   "execution_count": 20,
   "id": "a5a0a782",
   "metadata": {},
   "outputs": [
    {
     "name": "stdout",
     "output_type": "stream",
     "text": [
      "division by zero\n",
      "Always Executed\n",
      "rest of code\n"
     ]
    }
   ],
   "source": [
    "#Exception Handling \n",
    "# How to Handle any exception in python \n",
    "# try except else and finally \n",
    "# else and finally blocks are not mandatory\n",
    "# We can have multiple except block\n",
    "try: \n",
    "    num1 = 10 \n",
    "    num2 = 0 \n",
    "    print(num1/num2)\n",
    "    print(di)\n",
    "except Exception as e: \n",
    "    print(e)\n",
    "else: \n",
    "    print(\"There is no Exception\")\n",
    "finally:\n",
    "        print(\"Always Executed\")\n",
    "print(\"rest of code\")"
   ]
  },
  {
   "cell_type": "code",
   "execution_count": 36,
   "id": "ce942af7",
   "metadata": {},
   "outputs": [
    {
     "name": "stdout",
     "output_type": "stream",
     "text": [
      "division by zero\n",
      "<class 'ZeroDivisionError'>\n",
      "<class 'ZeroDivisionError'>\n",
      "division by zero\n",
      "Rest of Code\n"
     ]
    }
   ],
   "source": [
    "# How to Print Exception Info on Compiler?\n",
    "# Every Exception is a Builtin class \n",
    "# class has been called whenever the Exception is happened \n",
    "import sys\n",
    "\n",
    "try: \n",
    "    num1 = 10 \n",
    "    num2 = 0 \n",
    "    print(num1/num2)\n",
    "    print(di)\n",
    "except ZeroDivisionError as e: \n",
    "    print(e)\n",
    "    print(e.__class__)\n",
    "    print(sys.exc_info()[0])\n",
    "    print(sys.exc_info()[1])\n",
    "print(\"Rest of Code\")\n",
    "\n",
    "\n"
   ]
  },
  {
   "cell_type": "code",
   "execution_count": 45,
   "id": "015c1ee2",
   "metadata": {},
   "outputs": [
    {
     "name": "stdout",
     "output_type": "stream",
     "text": [
      "15\n"
     ]
    }
   ],
   "source": [
    "#Python Raise Keyword \n",
    "# user-defined Exceptions \n",
    "# Withdrawing Money \n",
    "# Progrmmaer creates Exception\n",
    "# Raise keyword use to call any kind of exception  \n",
    "age = -10\n",
    "age=15\n",
    "try:\n",
    "   if age < 10: \n",
    "     raise ValueError(\"Invalid Age\")\n",
    "   print(age)\n",
    "except Exception as e : \n",
    "   print(e)\n",
    "  "
   ]
  },
  {
   "cell_type": "code",
   "execution_count": 54,
   "id": "d3cd08e3",
   "metadata": {},
   "outputs": [
    {
     "name": "stdout",
     "output_type": "stream",
     "text": [
      "Wrong Age\n"
     ]
    }
   ],
   "source": [
    "# user Defined Exceptions \n",
    "# step1 : create Exception class and inherit from BaseExceptionClass \n",
    "# step2 : Use that built class to rectify Your Error\n",
    "\n",
    "class InvalidAge(Exception): \n",
    "    def __init__(self,message=\"Age cannot be minus\"):\n",
    "        super().__init__(message)\n",
    "        \n",
    "age = -10 \n",
    "try: \n",
    "    if age < 10 : \n",
    "        raise InvalidAge(\"Wrong Age\")\n",
    "    print(age)\n",
    "except Exception as e: \n",
    "    print(e)"
   ]
  },
  {
   "cell_type": "code",
   "execution_count": 62,
   "id": "b55e0c49",
   "metadata": {},
   "outputs": [
    {
     "name": "stdout",
     "output_type": "stream",
     "text": [
      "withdraw Successful, Remining Balance is 2000\n"
     ]
    }
   ],
   "source": [
    "def withdraw():\n",
    "    saved_pin = 1234  \n",
    "    pin = 1234\n",
    "    available_amount = 12000\n",
    "    try:\n",
    "        if saved_pin == pin: \n",
    "            amount = int(input(\"Enter Amoount to Withdraw\"))\n",
    "            if (amount < available_amount): \n",
    "                remaining_amount = available_amount - amount \n",
    "                print(\"withdraw Successful, Remining Balance is\",remaining_amount)\n",
    "            else: \n",
    "                raise ValueError(\"InSufficient Balance\",available_amount)\n",
    "        else:\n",
    "            raise ValueError(\"Wrong Pin\")\n",
    "    except Exception as e: \n",
    "        print(e)\n",
    "\n",
    "withdraw()"
   ]
  },
  {
   "cell_type": "code",
   "execution_count": null,
   "id": "20584e69",
   "metadata": {},
   "outputs": [],
   "source": []
  },
  {
   "cell_type": "code",
   "execution_count": null,
   "id": "5b13ad47",
   "metadata": {},
   "outputs": [],
   "source": []
  },
  {
   "cell_type": "code",
   "execution_count": null,
   "id": "c87d230a",
   "metadata": {},
   "outputs": [],
   "source": []
  },
  {
   "cell_type": "code",
   "execution_count": null,
   "id": "da0170cc",
   "metadata": {},
   "outputs": [],
   "source": []
  },
  {
   "cell_type": "code",
   "execution_count": null,
   "id": "42880fed",
   "metadata": {},
   "outputs": [],
   "source": []
  }
 ],
 "metadata": {
  "kernelspec": {
   "display_name": "env",
   "language": "python",
   "name": "python3"
  },
  "language_info": {
   "codemirror_mode": {
    "name": "ipython",
    "version": 3
   },
   "file_extension": ".py",
   "mimetype": "text/x-python",
   "name": "python",
   "nbconvert_exporter": "python",
   "pygments_lexer": "ipython3",
   "version": "3.13.3"
  }
 },
 "nbformat": 4,
 "nbformat_minor": 5
}
