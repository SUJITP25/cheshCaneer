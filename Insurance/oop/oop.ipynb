{
 "cells": [
  {
   "cell_type": "code",
   "execution_count": null,
   "id": "d4110631",
   "metadata": {},
   "outputs": [],
   "source": [
    "# Object Oriented Programming\n",
    "# Requirements \n",
    "# python Basic Knowledge \n",
    "# Functional Programming"
   ]
  },
  {
   "cell_type": "code",
   "execution_count": null,
   "id": "4bef010a",
   "metadata": {},
   "outputs": [
    {
     "name": "stdout",
     "output_type": "stream",
     "text": [
      "name is Sujit and roll is 1\n",
      "name is Krunal and roll is 2\n",
      "{'name': 'Sujit', 'roll': 1}\n"
     ]
    }
   ],
   "source": [
    "# OOP \n",
    "# Object Oriented Programming is programming paradigm \n",
    "# Arranging Program \n",
    "# Python Supports multiple Paradigm \n",
    "# Procedural (line by line, reuability Problem), Fuctional (function Based, cannot solved the real World Problems), OOP (To Solve Real World Problems) \n",
    "\n",
    "\n",
    "# Object in OOP reprsents the real life obujectsa \n",
    "# Email, Man , Stduent, Employee \n",
    "# Object has 2 properties - attributes (data, information) -name, heading, reciptants list, Behaviours (sending , Adding Attachments)\n",
    "# oop more focus on data rather than logic\n",
    "\n",
    "\n",
    "# OOP provide some features for real-world_problem Solving \n",
    "# (1) Inheritance - reusbaility\n",
    "# (2) Encapsulation  - Data Security\n",
    "# (3) Abstraction - Data Hiding\n",
    "\n",
    "\n",
    "# OOP \n",
    "# class is a template blueprint for creating objects \n",
    "# Every Object belong to the certain class \n",
    "# class has attributes and Methods \n",
    "# by using class you can create aa multiple objects. \n",
    "# class is a structure or plan of creating an object\n",
    "# attributes values varies with the object to object \n",
    "# But class will remain same \n",
    "# Technically class is a user-defined DataType \n",
    "# class is a collection of Objects \n",
    "# Every thing in python is an object \n",
    "# to check class Type type(variable_name) \n",
    "\n",
    "\n",
    "\n",
    "# def demo(): \n",
    "#     print(\"Hello\")\n",
    "# print(type(demo))\n",
    "# <class 'function'>\n",
    "\n",
    "\n",
    "class Person: \n",
    "    def __init__(self,name,roll): \n",
    "        self.name = name \n",
    "        self.roll = roll \n",
    "    \n",
    "    def __str__(self): \n",
    "        return f\"name is {self.name} and roll is {self.roll}\"\n",
    "    \n",
    "\n",
    "    def name_length(self): \n",
    "        return len(self.name)\n",
    "\n",
    "\n",
    "person1 = Person(\"Sujit\", 1)\n",
    "person2 = Person(\"Krunal\",2)\n",
    "print(person1)\n",
    "print(person2)\n",
    "print(person1.__dict__)\n",
    "\n"
   ]
  },
  {
   "cell_type": "code",
   "execution_count": 41,
   "id": "f023bf26",
   "metadata": {},
   "outputs": [
    {
     "data": {
      "text/plain": [
       "False"
      ]
     },
     "execution_count": 41,
     "metadata": {},
     "output_type": "execute_result"
    }
   ],
   "source": [
    "# Constructor and Type Of Constructor \n",
    "# When you want to initailze Object with some variable \n",
    "# def __init__(self,age=20, name=\"sujit\")\n",
    "# __init__ is a magic method and it is called Automatically \n",
    "# 3 Types of Constructor = partameterized, non_paramerized and Default \n",
    "# memopry will not be allocted till the object is created from class \n",
    "# Without comnsytcuor object cannot be initlixzed\n",
    "# Thats why one __init__() method is required. \n",
    "\n",
    "\n",
    "# Self Variable in Python \n",
    "# def __init__(self)\n",
    "# self is a variable which contains the memory reference of the object. \n",
    "# Object name assigns the memory location in self\n",
    "\n",
    "# How to access class Members? \n",
    "# object_name.variable_name \n",
    "# object_name.method_name()\n",
    "# can also change the value of the attributes \n",
    "\n",
    "\n",
    "# Built in class Functions \n",
    "# getattr, setattr, delattr, hasattr\n",
    "\n",
    "class Person: \n",
    "    def __init__(self,name,roll): \n",
    "        self.name = name \n",
    "        self.roll = roll \n",
    "    \n",
    "    def __str__(self): \n",
    "        return f\"name is {self.name} and roll is {self.roll}\"\n",
    "    \n",
    "\n",
    "    def name_length(self): \n",
    "        return len(self.name)\n",
    "\n",
    "\n",
    "person1 = Person(\"Sujit\", 1)\n",
    "person2 = Person(\"Krunal\",2)\n",
    "\n",
    "\n",
    "# built in class functions\n",
    "getattr(person1,\"name\")\n",
    "setattr(person1,\"name\", \"srp\")\n",
    "getattr(person1,\"name\")\n",
    "hasattr(person1,\"name\")\n",
    "delattr(person1,\"name\")\n",
    "hasattr(person1,\"name\")\n",
    "\n",
    "# Built in class attributes \n",
    "# print(Person.__doc__)\n",
    "# print(Person.__dict__)\n",
    "# print(Person.__name__)\n",
    "# print(Person.__module__)\n",
    "# print(Person.__bases__)\n",
    "\n",
    "\n"
   ]
  },
  {
   "cell_type": "code",
   "execution_count": 48,
   "id": "6cbb40be",
   "metadata": {},
   "outputs": [
    {
     "data": {
      "text/plain": [
       "False"
      ]
     },
     "execution_count": 48,
     "metadata": {},
     "output_type": "execute_result"
    }
   ],
   "source": [
    "#Isinstance method\n",
    "\n",
    "class Person: \n",
    "    def __init__(self,name,roll): \n",
    "        self.name = name \n",
    "        self.roll = roll \n",
    "    \n",
    "    def __str__(self): \n",
    "        return f\"name is {self.name} and roll is {self.roll}\"\n",
    "    \n",
    "\n",
    "    def name_length(self): \n",
    "        return len(self.name)\n",
    "\n",
    "\n",
    "person1 = Person(\"Sujit\", 1)\n",
    "person2 = Person(\"Krunal\",2)\n",
    "\n",
    "isinstance(person1,Person)\n",
    "\n",
    "name = \"Sujit\"\n",
    "\n",
    "isinstance(name, str)\n",
    "isinstance(name,int)\n"
   ]
  },
  {
   "cell_type": "code",
   "execution_count": null,
   "id": "5d645631",
   "metadata": {},
   "outputs": [],
   "source": [
    "# Types of Variables and Types of metthods\n",
    "class Person: \n",
    "    def __init__(self,name,roll): \n",
    "        self.name = name \n",
    "        self.roll = roll \n",
    "    \n",
    "    def __str__(self): \n",
    "        return f\"name is {self.name} and roll is {self.roll}\"\n",
    "    \n",
    "\n",
    "    def name_length(self): \n",
    "        return len(self.name)\n",
    "\n",
    "\n",
    "person1 = Person(\"Sujit\", 1)\n",
    "person2 = Person(\"Krunal\",2)\n",
    "\n",
    "# 2 types of variables \n",
    "# Class variables \n",
    "# Variables created while class is called the class variables. \n",
    "\n",
    "\n",
    "\n",
    "# Instance variables \n",
    "# Variables which are created while making an object\n",
    "# made for particular instance \n",
    "# separte copy for the every object \n",
    "# value differ from object top object\n",
    "# can also access outside class person1.name \n",
    "# can change values also person1.name = \"sujit\"\n",
    "\n",
    "\n",
    "# Instance method work on the instance variables \n",
    "# firs argument is self\n",
    "\n",
    "\n",
    "\n",
    "\n"
   ]
  },
  {
   "cell_type": "code",
   "execution_count": 65,
   "id": "d443a128",
   "metadata": {},
   "outputs": [
    {
     "name": "stdout",
     "output_type": "stream",
     "text": [
      "GEC\n",
      "Data\n",
      "<bound method Student.college_name of <class '__main__.Student'>>\n"
     ]
    }
   ],
   "source": [
    "#Class Variables and class Methods \n",
    "class Student: \n",
    "    college = \"GEC\"\n",
    "    def __init__(self,age): \n",
    "        self.age = age\n",
    "\n",
    "    @classmethod\n",
    "    def college_name(cls): \n",
    "        print(cls.college_name)\n",
    "\n",
    "s1 = Student(22)\n",
    "s2= Student(23)\n",
    "print(Student.college)\n",
    "Student.college =  \"Data\"\n",
    "print(Student.college)\n",
    "# can also access using object \n",
    "s1.college \n",
    "s1.college = \"Sujit\"\n",
    "s1.college\n",
    "# changes will only happen for same object not for another object, \n",
    "# It will make a new variable\n",
    "\n",
    "s2.college\n",
    "# college is a class variable \n",
    "# one single copy for all the objects \n",
    "# objects cant modify this\n",
    "# if you modify variable using class reference then it will impact all the objects\n",
    "\n",
    "\n",
    "Student.college_name()"
   ]
  },
  {
   "cell_type": "code",
   "execution_count": null,
   "id": "245c3837",
   "metadata": {},
   "outputs": [
    {
     "data": {
      "text/plain": [
       "{'_Person__name': 'delta', '_roll': 1, 'name': 'delta', '__name': 'delta'}"
      ]
     },
     "execution_count": 73,
     "metadata": {},
     "output_type": "execute_result"
    }
   ],
   "source": [
    "#Setter Method and Getter Method\n",
    "\n",
    "# class Person: \n",
    "#     def __init__(self,name,roll): \n",
    "#         self.__name = name \n",
    "#         self._roll = roll \n",
    "    \n",
    "#     def __str__(self): \n",
    "#         return f\"name is {self.name} and roll is {self.roll}\"\n",
    "    \n",
    "\n",
    "#     def name_length(self): \n",
    "#         return len(self.name)\n",
    "    \n",
    "\n",
    "# person1 = Person(\"Sujit\", 1)\n",
    "# person2 = Person(\"Krunal\",2)\n",
    "# person1.name= \"delta\"\n",
    "# person1.name\n",
    "# person1.__name = \"delta\"\n",
    "# person1.__dict__\n",
    "# person1._Person__name=\"delta\"\n",
    "# person1.__dict__"
   ]
  },
  {
   "cell_type": "code",
   "execution_count": 78,
   "id": "914c8418",
   "metadata": {},
   "outputs": [
    {
     "data": {
      "text/plain": [
       "307.5"
      ]
     },
     "execution_count": 78,
     "metadata": {},
     "output_type": "execute_result"
    }
   ],
   "source": [
    "# Static Method\n",
    "# Performs operations on external Data\n",
    "# Aslo performs operation data on class data\n",
    "# class Data is called static Data \n",
    "# performs operation on Static Data \n",
    "# Buit majorly works upon external Data\n",
    "# No need to refer the class or object\n",
    "\n",
    "class Person: \n",
    "    banK_name = \"SBI\"\n",
    "    rate_of_interestm = 10.25\n",
    "    def __init__(self,name,roll): \n",
    "        self.name = name \n",
    "        self.roll = roll\n",
    "\n",
    "    @staticmethod\n",
    "    def simple_interest(p,n): \n",
    "        si = (p*n*Person.rate_of_interestm) /100\n",
    "        return si\n",
    "    \n",
    "    def __str__(self): \n",
    "        return f\"name is {self.name} and roll is {self.roll}\"\n",
    "    \n",
    "\n",
    "    def name_length(self): \n",
    "        return len(self.name)\n",
    "\n",
    "\n",
    "person1 = Person(\"Sujit\", 1)\n",
    "person2 = Person(\"Krunal\",2)\n",
    "\n",
    "person1.simple_interest(1500,2)"
   ]
  },
  {
   "cell_type": "code",
   "execution_count": 79,
   "id": "8efe2c3d",
   "metadata": {},
   "outputs": [],
   "source": [
    "#Inheritance in Python"
   ]
  },
  {
   "cell_type": "code",
   "execution_count": null,
   "id": "25b8f03f",
   "metadata": {},
   "outputs": [],
   "source": []
  },
  {
   "cell_type": "code",
   "execution_count": null,
   "id": "cd2f73cd",
   "metadata": {},
   "outputs": [],
   "source": []
  },
  {
   "cell_type": "code",
   "execution_count": null,
   "id": "f9b01ba4",
   "metadata": {},
   "outputs": [],
   "source": []
  }
 ],
 "metadata": {
  "kernelspec": {
   "display_name": "env",
   "language": "python",
   "name": "python3"
  },
  "language_info": {
   "codemirror_mode": {
    "name": "ipython",
    "version": 3
   },
   "file_extension": ".py",
   "mimetype": "text/x-python",
   "name": "python",
   "nbconvert_exporter": "python",
   "pygments_lexer": "ipython3",
   "version": "3.13.3"
  }
 },
 "nbformat": 4,
 "nbformat_minor": 5
}
